{
 "cells": [
  {
   "cell_type": "code",
   "execution_count": 38,
   "id": "60c3dce5",
   "metadata": {},
   "outputs": [
    {
     "name": "stdout",
     "output_type": "stream",
     "text": [
      "Unsorted list\n",
      "[1, 5, 4, 6, 7, 8, 3, 2, 10, 9]\n",
      "Sorted list\n",
      "Iteration 0 1\n",
      "[1, 4, 5, 6, 7, 8, 3, 2, 10, 9]\n",
      "Iteration 0 5\n",
      "[1, 4, 5, 6, 7, 3, 8, 2, 10, 9]\n",
      "Iteration 0 6\n",
      "[1, 4, 5, 6, 7, 3, 2, 8, 10, 9]\n",
      "Iteration 0 8\n",
      "[1, 4, 5, 6, 7, 3, 2, 8, 9, 10]\n",
      "Iteration 1 4\n",
      "[1, 4, 5, 6, 3, 7, 2, 8, 9, 10]\n",
      "Iteration 1 5\n",
      "[1, 4, 5, 6, 3, 2, 7, 8, 9, 10]\n",
      "Iteration 2 3\n",
      "[1, 4, 5, 3, 6, 2, 7, 8, 9, 10]\n",
      "Iteration 2 4\n",
      "[1, 4, 5, 3, 2, 6, 7, 8, 9, 10]\n",
      "Iteration 3 2\n",
      "[1, 4, 3, 5, 2, 6, 7, 8, 9, 10]\n",
      "Iteration 3 3\n",
      "[1, 4, 3, 2, 5, 6, 7, 8, 9, 10]\n",
      "Iteration 4 1\n",
      "[1, 3, 4, 2, 5, 6, 7, 8, 9, 10]\n",
      "Iteration 4 2\n",
      "[1, 3, 2, 4, 5, 6, 7, 8, 9, 10]\n",
      "Iteration 5 1\n",
      "[1, 2, 3, 4, 5, 6, 7, 8, 9, 10]\n"
     ]
    }
   ],
   "source": [
    "# Quiz 1\n",
    "# bubble sort\n",
    "def bubblesort(lst): \n",
    "        n = len(lst)    \n",
    "        for i in range(n):               \n",
    "                swap = False\n",
    "                for j in range(0, n-i-1):\n",
    "                   \n",
    "                    if lst[j]>lst[j+1]:\n",
    "                        lst[j], lst[j+1] = lst[j+1], lst[j]\n",
    "                        swap = True\n",
    "                        print(\"Iteration\",i,j)\n",
    "                        print(lst)\n",
    "                if swap == False:\n",
    "                        break\n",
    "y = [1,5,4,6,7,8,3,2,10,9]\n",
    "print(\"Unsorted list\")\n",
    "print (y)\n",
    "print(\"Sorted list\")\n",
    "bubblesort(y)"
   ]
  },
  {
   "cell_type": "code",
   "execution_count": 36,
   "id": "08dee963",
   "metadata": {},
   "outputs": [
    {
     "name": "stdout",
     "output_type": "stream",
     "text": [
      "Unsorted list:[1, 5, 4, 6, 7, 8, 3, 2, 10, 9]\n",
      "Iteration 1 3\n",
      "[1, 2, 3, 4, 5, 8, 7, 6, 10, 9]\n",
      "Iteration 5 6\n",
      "[1, 2, 3, 4, 5, 6, 7, 8, 10, 9]\n",
      "Iteration 8 9\n",
      "[1, 2, 3, 4, 5, 6, 7, 8, 9, 10]\n",
      "Iteration 5 9\n",
      "[1, 2, 3, 4, 5, 6, 7, 8, 9, 10]\n",
      "Iteration 1 9\n",
      "[1, 2, 3, 4, 5, 6, 7, 8, 9, 10]\n",
      "Iteration 0 9\n",
      "[1, 2, 3, 4, 5, 6, 7, 8, 9, 10]\n"
     ]
    }
   ],
   "source": [
    "#Quick sort\n",
    "def partition(start, end, array):\n",
    "    pivot_index = start\n",
    "    pivot = array[pivot_index]\n",
    "    \n",
    "    while start < end:\n",
    "        while start < len(array) and array[start] <= pivot:\n",
    "            start += 1\n",
    "        while array[end] > pivot:\n",
    "            end -= 1\n",
    "        if(start < end):\n",
    "            array[start], array[end] = array[end], array[start]\n",
    "    array[end], array[pivot_index] = array[pivot_index], array[end]\n",
    "    return end\n",
    "\n",
    "def quick_sort(start, end, array):\n",
    "    if (start < end):\n",
    "        p = partition(start, end, array)\n",
    "        quick_sort(start, p - 1, array)\n",
    "        quick_sort(p + 1, end, array)\n",
    "        print(\"Iteration\",start,end)\n",
    "        print (array)\n",
    "array = [ 1,5,4,6,7,8,3,2,10,9 ]\n",
    "print(f'Unsorted list:{array}')\n",
    "quick_sort(0, len(array) - 1, array)"
   ]
  }
 ],
 "metadata": {
  "kernelspec": {
   "display_name": "Python 3 (ipykernel)",
   "language": "python",
   "name": "python3"
  },
  "language_info": {
   "codemirror_mode": {
    "name": "ipython",
    "version": 3
   },
   "file_extension": ".py",
   "mimetype": "text/x-python",
   "name": "python",
   "nbconvert_exporter": "python",
   "pygments_lexer": "ipython3",
   "version": "3.9.5"
  }
 },
 "nbformat": 4,
 "nbformat_minor": 5
}
